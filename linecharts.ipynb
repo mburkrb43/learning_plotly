{
  "nbformat": 4,
  "nbformat_minor": 0,
  "metadata": {
    "colab": {
      "name": "linecharts.ipynb",
      "provenance": [],
      "collapsed_sections": [],
      "authorship_tag": "ABX9TyPzNtnloB/ZZe4eIrEtlGk6",
      "include_colab_link": true
    },
    "kernelspec": {
      "name": "python3",
      "display_name": "Python 3"
    },
    "language_info": {
      "name": "python"
    }
  },
  "cells": [
    {
      "cell_type": "markdown",
      "metadata": {
        "id": "view-in-github",
        "colab_type": "text"
      },
      "source": [
        "<a href=\"https://colab.research.google.com/github/mburkrb43/learning_plotly/blob/main/linecharts.ipynb\" target=\"_parent\"><img src=\"https://colab.research.google.com/assets/colab-badge.svg\" alt=\"Open In Colab\"/></a>"
      ]
    },
    {
      "cell_type": "code",
      "metadata": {
        "colab": {
          "base_uri": "https://localhost:8080/",
          "height": 36
        },
        "id": "UPr-1FKijZpd",
        "outputId": "8e937a6f-3ea2-4a37-e2dd-6810d24c1af8"
      },
      "source": [
        "import numpy as np\n",
        "import plotly.offline as pyo\n",
        "import plotly.graph_objs as go\n",
        "np.random.seed(56)\n",
        "\n",
        "x_values = np.linspace(0,1,100)\n",
        "y_values = np.random.randn(100)\n",
        "\n",
        "trace1 = go.Scatter(x=x_values,y=y_values+5,mode='markers',name='markers')\n",
        "trace2 = go.Scatter(x=x_values,y=y_values,mode='lines',name='mylines')\n",
        "trace3 = go.Scatter(x=x_values,y=y_values-5,mode='lines+markers',name='myfave')\n",
        "\n",
        "data = [trace1,trace2,trace3]\n",
        "\n",
        "layout = go.Layout(title='Line Charts')\n",
        "fig = go.Figure(data=data,layout=layout)\n",
        "pyo.plot(fig)"
      ],
      "execution_count": 4,
      "outputs": [
        {
          "output_type": "execute_result",
          "data": {
            "application/vnd.google.colaboratory.intrinsic+json": {
              "type": "string"
            },
            "text/plain": [
              "'temp-plot.html'"
            ]
          },
          "metadata": {},
          "execution_count": 4
        }
      ]
    },
    {
      "cell_type": "code",
      "metadata": {
        "id": "pK2r5yIvkJPy"
      },
      "source": [
        ""
      ],
      "execution_count": null,
      "outputs": []
    }
  ]
}